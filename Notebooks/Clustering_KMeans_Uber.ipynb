{
 "cells": [
  {
   "cell_type": "code",
   "execution_count": 1,
   "id": "5999124b",
   "metadata": {},
   "outputs": [],
   "source": [
    "#pip install --upgrade numpy==1.21.4"
   ]
  },
  {
   "cell_type": "code",
   "execution_count": 2,
   "id": "12130334",
   "metadata": {},
   "outputs": [
    {
     "data": {
      "text/html": [
       "<div>\n",
       "<style scoped>\n",
       "    .dataframe tbody tr th:only-of-type {\n",
       "        vertical-align: middle;\n",
       "    }\n",
       "\n",
       "    .dataframe tbody tr th {\n",
       "        vertical-align: top;\n",
       "    }\n",
       "\n",
       "    .dataframe thead th {\n",
       "        text-align: right;\n",
       "    }\n",
       "</style>\n",
       "<table border=\"1\" class=\"dataframe\">\n",
       "  <thead>\n",
       "    <tr style=\"text-align: right;\">\n",
       "      <th></th>\n",
       "      <th>Date/Time</th>\n",
       "      <th>Lat</th>\n",
       "      <th>Lon</th>\n",
       "      <th>Base</th>\n",
       "    </tr>\n",
       "  </thead>\n",
       "  <tbody>\n",
       "    <tr>\n",
       "      <th>0</th>\n",
       "      <td>2014-09-01 00:01:00</td>\n",
       "      <td>40.2201</td>\n",
       "      <td>-74.0021</td>\n",
       "      <td>B02512</td>\n",
       "    </tr>\n",
       "    <tr>\n",
       "      <th>1</th>\n",
       "      <td>2014-09-01 00:01:00</td>\n",
       "      <td>40.7500</td>\n",
       "      <td>-74.0027</td>\n",
       "      <td>B02512</td>\n",
       "    </tr>\n",
       "    <tr>\n",
       "      <th>2</th>\n",
       "      <td>2014-09-01 00:03:00</td>\n",
       "      <td>40.7559</td>\n",
       "      <td>-73.9864</td>\n",
       "      <td>B02512</td>\n",
       "    </tr>\n",
       "    <tr>\n",
       "      <th>3</th>\n",
       "      <td>2014-09-01 00:06:00</td>\n",
       "      <td>40.7450</td>\n",
       "      <td>-73.9889</td>\n",
       "      <td>B02512</td>\n",
       "    </tr>\n",
       "    <tr>\n",
       "      <th>4</th>\n",
       "      <td>2014-09-01 00:11:00</td>\n",
       "      <td>40.8145</td>\n",
       "      <td>-73.9444</td>\n",
       "      <td>B02512</td>\n",
       "    </tr>\n",
       "  </tbody>\n",
       "</table>\n",
       "</div>"
      ],
      "text/plain": [
       "            Date/Time      Lat      Lon    Base\n",
       "0 2014-09-01 00:01:00  40.2201 -74.0021  B02512\n",
       "1 2014-09-01 00:01:00  40.7500 -74.0027  B02512\n",
       "2 2014-09-01 00:03:00  40.7559 -73.9864  B02512\n",
       "3 2014-09-01 00:06:00  40.7450 -73.9889  B02512\n",
       "4 2014-09-01 00:11:00  40.8145 -73.9444  B02512"
      ]
     },
     "execution_count": 2,
     "metadata": {},
     "output_type": "execute_result"
    }
   ],
   "source": [
    "import pandas as pd\n",
    "import numpy as np\n",
    "from sklearn.cluster import KMeans\n",
    "from sklearn.metrics.pairwise import cosine_similarity\n",
    "from sklearn.preprocessing import StandardScaler\n",
    "\n",
    "# Load the Uber pickups data\n",
    "uber_data = pd.read_csv('C:/Users/Sanchu/Downloads/Uber data/data-society-uber-pickups-in-nyc/uber-raw-data-sep14.csv', parse_dates=['Date/Time'])\n",
    "uber_data.head()"
   ]
  },
  {
   "cell_type": "code",
   "execution_count": 3,
   "id": "85d067ed",
   "metadata": {},
   "outputs": [],
   "source": [
    "uber_data['weekday'] = uber_data['Date/Time'].dt.weekday\n",
    "uber_data['month'] = uber_data['Date/Time'].dt.month\n",
    "uber_data['day'] = uber_data['Date/Time'].dt.day"
   ]
  },
  {
   "cell_type": "code",
   "execution_count": 4,
   "id": "0fc0ace6",
   "metadata": {},
   "outputs": [],
   "source": [
    "# Preprocess the data\n",
    "# Extract the hour and day of the week from the pickup_datetime column\n",
    "\n",
    "uber_data['hour'] = uber_data['Date/Time'].dt.hour\n",
    "uber_data['weekday'] = uber_data['Date/Time'].dt.weekday\n",
    "\n",
    "# Create a pivot table to count the number of pickups per hour and day of the week\n",
    "pivot_table = pd.pivot_table(uber_data, values='Base', index='hour', columns='weekday', aggfunc='count')\n",
    "\n",
    "# Remove any NaN values\n",
    "pivot_table = pivot_table.fillna(0)\n",
    "\n",
    "# Standardize the data using the StandardScaler from scikit-learn\n",
    "scaler = StandardScaler()\n",
    "pivot_table_std = scaler.fit_transform(pivot_table)\n",
    "\n",
    "# Calculate the cosine similarity matrix\n",
    "cosine_sim_matrix = cosine_similarity(pivot_table_std)"
   ]
  },
  {
   "cell_type": "code",
   "execution_count": 5,
   "id": "3f9a9d17",
   "metadata": {},
   "outputs": [
    {
     "data": {
      "text/html": [
       "<div>\n",
       "<style scoped>\n",
       "    .dataframe tbody tr th:only-of-type {\n",
       "        vertical-align: middle;\n",
       "    }\n",
       "\n",
       "    .dataframe tbody tr th {\n",
       "        vertical-align: top;\n",
       "    }\n",
       "\n",
       "    .dataframe thead th {\n",
       "        text-align: right;\n",
       "    }\n",
       "</style>\n",
       "<table border=\"1\" class=\"dataframe\">\n",
       "  <thead>\n",
       "    <tr style=\"text-align: right;\">\n",
       "      <th></th>\n",
       "      <th>Monday</th>\n",
       "      <th>Tuesday</th>\n",
       "      <th>Wednesday</th>\n",
       "      <th>Thursday</th>\n",
       "      <th>Friday</th>\n",
       "      <th>Saturday</th>\n",
       "      <th>Sunday</th>\n",
       "    </tr>\n",
       "    <tr>\n",
       "      <th>hour</th>\n",
       "      <th></th>\n",
       "      <th></th>\n",
       "      <th></th>\n",
       "      <th></th>\n",
       "      <th></th>\n",
       "      <th></th>\n",
       "      <th></th>\n",
       "    </tr>\n",
       "  </thead>\n",
       "  <tbody>\n",
       "    <tr>\n",
       "      <th>0</th>\n",
       "      <td>1885</td>\n",
       "      <td>1411</td>\n",
       "      <td>1489</td>\n",
       "      <td>1762</td>\n",
       "      <td>2513</td>\n",
       "      <td>6909</td>\n",
       "      <td>8164</td>\n",
       "    </tr>\n",
       "    <tr>\n",
       "      <th>1</th>\n",
       "      <td>1201</td>\n",
       "      <td>784</td>\n",
       "      <td>885</td>\n",
       "      <td>1037</td>\n",
       "      <td>1530</td>\n",
       "      <td>4737</td>\n",
       "      <td>5933</td>\n",
       "    </tr>\n",
       "    <tr>\n",
       "      <th>2</th>\n",
       "      <td>977</td>\n",
       "      <td>609</td>\n",
       "      <td>597</td>\n",
       "      <td>714</td>\n",
       "      <td>1002</td>\n",
       "      <td>2957</td>\n",
       "      <td>3846</td>\n",
       "    </tr>\n",
       "    <tr>\n",
       "      <th>3</th>\n",
       "      <td>1780</td>\n",
       "      <td>1221</td>\n",
       "      <td>966</td>\n",
       "      <td>1088</td>\n",
       "      <td>1347</td>\n",
       "      <td>2029</td>\n",
       "      <td>2358</td>\n",
       "    </tr>\n",
       "    <tr>\n",
       "      <th>4</th>\n",
       "      <td>2479</td>\n",
       "      <td>2093</td>\n",
       "      <td>1612</td>\n",
       "      <td>1720</td>\n",
       "      <td>1819</td>\n",
       "      <td>1458</td>\n",
       "      <td>1494</td>\n",
       "    </tr>\n",
       "    <tr>\n",
       "      <th>5</th>\n",
       "      <td>3905</td>\n",
       "      <td>4196</td>\n",
       "      <td>3130</td>\n",
       "      <td>2754</td>\n",
       "      <td>3115</td>\n",
       "      <td>1544</td>\n",
       "      <td>1618</td>\n",
       "    </tr>\n",
       "    <tr>\n",
       "      <th>6</th>\n",
       "      <td>5668</td>\n",
       "      <td>7393</td>\n",
       "      <td>5699</td>\n",
       "      <td>5586</td>\n",
       "      <td>5186</td>\n",
       "      <td>2092</td>\n",
       "      <td>1683</td>\n",
       "    </tr>\n",
       "    <tr>\n",
       "      <th>7</th>\n",
       "      <td>7223</td>\n",
       "      <td>9466</td>\n",
       "      <td>7067</td>\n",
       "      <td>7790</td>\n",
       "      <td>6698</td>\n",
       "      <td>2790</td>\n",
       "      <td>2280</td>\n",
       "    </tr>\n",
       "    <tr>\n",
       "      <th>8</th>\n",
       "      <td>7287</td>\n",
       "      <td>9374</td>\n",
       "      <td>6665</td>\n",
       "      <td>7663</td>\n",
       "      <td>6715</td>\n",
       "      <td>3664</td>\n",
       "      <td>3109</td>\n",
       "    </tr>\n",
       "    <tr>\n",
       "      <th>9</th>\n",
       "      <td>5892</td>\n",
       "      <td>7082</td>\n",
       "      <td>5356</td>\n",
       "      <td>6330</td>\n",
       "      <td>5615</td>\n",
       "      <td>4352</td>\n",
       "      <td>3915</td>\n",
       "    </tr>\n",
       "    <tr>\n",
       "      <th>10</th>\n",
       "      <td>5358</td>\n",
       "      <td>6517</td>\n",
       "      <td>4929</td>\n",
       "      <td>5655</td>\n",
       "      <td>5355</td>\n",
       "      <td>5132</td>\n",
       "      <td>4688</td>\n",
       "    </tr>\n",
       "    <tr>\n",
       "      <th>11</th>\n",
       "      <td>5461</td>\n",
       "      <td>6071</td>\n",
       "      <td>5027</td>\n",
       "      <td>5723</td>\n",
       "      <td>5230</td>\n",
       "      <td>5801</td>\n",
       "      <td>5508</td>\n",
       "    </tr>\n",
       "    <tr>\n",
       "      <th>12</th>\n",
       "      <td>5415</td>\n",
       "      <td>5987</td>\n",
       "      <td>5011</td>\n",
       "      <td>5641</td>\n",
       "      <td>5388</td>\n",
       "      <td>6114</td>\n",
       "      <td>5637</td>\n",
       "    </tr>\n",
       "    <tr>\n",
       "      <th>13</th>\n",
       "      <td>6245</td>\n",
       "      <td>7079</td>\n",
       "      <td>5833</td>\n",
       "      <td>6368</td>\n",
       "      <td>6238</td>\n",
       "      <td>7049</td>\n",
       "      <td>6230</td>\n",
       "    </tr>\n",
       "    <tr>\n",
       "      <th>14</th>\n",
       "      <td>7113</td>\n",
       "      <td>8374</td>\n",
       "      <td>6867</td>\n",
       "      <td>7419</td>\n",
       "      <td>7431</td>\n",
       "      <td>8732</td>\n",
       "      <td>6707</td>\n",
       "    </tr>\n",
       "    <tr>\n",
       "      <th>15</th>\n",
       "      <td>8346</td>\n",
       "      <td>9935</td>\n",
       "      <td>8331</td>\n",
       "      <td>8887</td>\n",
       "      <td>8696</td>\n",
       "      <td>9857</td>\n",
       "      <td>7167</td>\n",
       "    </tr>\n",
       "    <tr>\n",
       "      <th>16</th>\n",
       "      <td>9513</td>\n",
       "      <td>11108</td>\n",
       "      <td>9451</td>\n",
       "      <td>10196</td>\n",
       "      <td>9792</td>\n",
       "      <td>10494</td>\n",
       "      <td>7670</td>\n",
       "    </tr>\n",
       "    <tr>\n",
       "      <th>17</th>\n",
       "      <td>9841</td>\n",
       "      <td>12369</td>\n",
       "      <td>10294</td>\n",
       "      <td>11302</td>\n",
       "      <td>11175</td>\n",
       "      <td>11021</td>\n",
       "      <td>7371</td>\n",
       "    </tr>\n",
       "    <tr>\n",
       "      <th>18</th>\n",
       "      <td>9611</td>\n",
       "      <td>12184</td>\n",
       "      <td>10250</td>\n",
       "      <td>11738</td>\n",
       "      <td>12315</td>\n",
       "      <td>11753</td>\n",
       "      <td>7189</td>\n",
       "    </tr>\n",
       "    <tr>\n",
       "      <th>19</th>\n",
       "      <td>8725</td>\n",
       "      <td>11091</td>\n",
       "      <td>9268</td>\n",
       "      <td>10958</td>\n",
       "      <td>11765</td>\n",
       "      <td>11423</td>\n",
       "      <td>6430</td>\n",
       "    </tr>\n",
       "    <tr>\n",
       "      <th>20</th>\n",
       "      <td>8318</td>\n",
       "      <td>10370</td>\n",
       "      <td>9108</td>\n",
       "      <td>10076</td>\n",
       "      <td>10345</td>\n",
       "      <td>9841</td>\n",
       "      <td>5930</td>\n",
       "    </tr>\n",
       "    <tr>\n",
       "      <th>21</th>\n",
       "      <td>6979</td>\n",
       "      <td>9022</td>\n",
       "      <td>7951</td>\n",
       "      <td>9820</td>\n",
       "      <td>10947</td>\n",
       "      <td>10723</td>\n",
       "      <td>5164</td>\n",
       "    </tr>\n",
       "    <tr>\n",
       "      <th>22</th>\n",
       "      <td>5130</td>\n",
       "      <td>6538</td>\n",
       "      <td>6179</td>\n",
       "      <td>7885</td>\n",
       "      <td>10797</td>\n",
       "      <td>11173</td>\n",
       "      <td>4115</td>\n",
       "    </tr>\n",
       "    <tr>\n",
       "      <th>23</th>\n",
       "      <td>2936</td>\n",
       "      <td>2956</td>\n",
       "      <td>3408</td>\n",
       "      <td>5164</td>\n",
       "      <td>9366</td>\n",
       "      <td>10412</td>\n",
       "      <td>2326</td>\n",
       "    </tr>\n",
       "  </tbody>\n",
       "</table>\n",
       "</div>"
      ],
      "text/plain": [
       "      Monday  Tuesday  Wednesday  Thursday  Friday  Saturday  Sunday\n",
       "hour                                                                \n",
       "0       1885     1411       1489      1762    2513      6909    8164\n",
       "1       1201      784        885      1037    1530      4737    5933\n",
       "2        977      609        597       714    1002      2957    3846\n",
       "3       1780     1221        966      1088    1347      2029    2358\n",
       "4       2479     2093       1612      1720    1819      1458    1494\n",
       "5       3905     4196       3130      2754    3115      1544    1618\n",
       "6       5668     7393       5699      5586    5186      2092    1683\n",
       "7       7223     9466       7067      7790    6698      2790    2280\n",
       "8       7287     9374       6665      7663    6715      3664    3109\n",
       "9       5892     7082       5356      6330    5615      4352    3915\n",
       "10      5358     6517       4929      5655    5355      5132    4688\n",
       "11      5461     6071       5027      5723    5230      5801    5508\n",
       "12      5415     5987       5011      5641    5388      6114    5637\n",
       "13      6245     7079       5833      6368    6238      7049    6230\n",
       "14      7113     8374       6867      7419    7431      8732    6707\n",
       "15      8346     9935       8331      8887    8696      9857    7167\n",
       "16      9513    11108       9451     10196    9792     10494    7670\n",
       "17      9841    12369      10294     11302   11175     11021    7371\n",
       "18      9611    12184      10250     11738   12315     11753    7189\n",
       "19      8725    11091       9268     10958   11765     11423    6430\n",
       "20      8318    10370       9108     10076   10345      9841    5930\n",
       "21      6979     9022       7951      9820   10947     10723    5164\n",
       "22      5130     6538       6179      7885   10797     11173    4115\n",
       "23      2936     2956       3408      5164    9366     10412    2326"
      ]
     },
     "execution_count": 5,
     "metadata": {},
     "output_type": "execute_result"
    }
   ],
   "source": [
    "pivot_table.columns = [\"Monday\", \"Tuesday\",\"Wednesday\", \"Thursday\",\"Friday\", \"Saturday\", \"Sunday\"]\n",
    "pivot_table"
   ]
  },
  {
   "cell_type": "code",
   "execution_count": 6,
   "id": "5e528b42",
   "metadata": {},
   "outputs": [
    {
     "name": "stderr",
     "output_type": "stream",
     "text": [
      "C:\\Users\\Sanchu\\anaconda3\\lib\\site-packages\\sklearn\\cluster\\_kmeans.py:870: FutureWarning: The default value of `n_init` will change from 10 to 'auto' in 1.4. Set the value of `n_init` explicitly to suppress the warning\n",
      "  warnings.warn(\n",
      "C:\\Users\\Sanchu\\anaconda3\\lib\\site-packages\\sklearn\\cluster\\_kmeans.py:1382: UserWarning: KMeans is known to have a memory leak on Windows with MKL, when there are less chunks than available threads. You can avoid it by setting the environment variable OMP_NUM_THREADS=1.\n",
      "  warnings.warn(\n"
     ]
    },
    {
     "name": "stdout",
     "output_type": "stream",
     "text": [
      "Number of pickups in each cluster:\n",
      "         Monday  Tuesday  Wednesday  Thursday  Friday  Saturday  Sunday\n",
      "cluster                                                                \n",
      "0         28461    28889      23646     26094   27299     36681   39246\n",
      "1         79821    98070      83532     94649   99501    102066   63973\n",
      "2         29006    36271      28195     32533   33580     23310   13313\n"
     ]
    }
   ],
   "source": [
    "# Perform k-means clustering\n",
    "num_clusters = 3\n",
    "kmeans = KMeans(n_clusters=num_clusters, max_iter=100)\n",
    "cluster_labels = kmeans.fit_predict(cosine_sim_matrix)\n",
    "\n",
    "# Add the cluster labels to the original pivot table\n",
    "pivot_table['cluster'] = cluster_labels\n",
    "\n",
    "# Output the results\n",
    "print(\"Number of pickups in each cluster:\")\n",
    "print(pivot_table.groupby('cluster').sum())"
   ]
  },
  {
   "cell_type": "code",
   "execution_count": 7,
   "id": "70e28541",
   "metadata": {},
   "outputs": [
    {
     "name": "stderr",
     "output_type": "stream",
     "text": [
      "C:\\Users\\Sanchu\\anaconda3\\lib\\site-packages\\sklearn\\cluster\\_kmeans.py:870: FutureWarning: The default value of `n_init` will change from 10 to 'auto' in 1.4. Set the value of `n_init` explicitly to suppress the warning\n",
      "  warnings.warn(\n",
      "C:\\Users\\Sanchu\\anaconda3\\lib\\site-packages\\sklearn\\cluster\\_kmeans.py:1382: UserWarning: KMeans is known to have a memory leak on Windows with MKL, when there are less chunks than available threads. You can avoid it by setting the environment variable OMP_NUM_THREADS=1.\n",
      "  warnings.warn(\n"
     ]
    },
    {
     "name": "stdout",
     "output_type": "stream",
     "text": [
      "Number of pickups in each cluster:\n",
      "         Monday  Tuesday  Wednesday  Thursday  Friday  Saturday  Sunday\n",
      "cluster                                                                \n",
      "0         14510    18840      13732     15453   13413      6454    5389\n",
      "1         14499    14636      11234     11931   12638     13120   14004\n",
      "2         79821    98070      83532     94649   99501    102066   63973\n",
      "3         13962    14253      12412     14163   14661     23561   25242\n",
      "4         14496    17431      14463     17080   20167     16856    7924\n"
     ]
    }
   ],
   "source": [
    "# Perform k-means clustering\n",
    "num_clusters = 5\n",
    "kmeans = KMeans(n_clusters=num_clusters, max_iter=100)\n",
    "cluster_labels = kmeans.fit_predict(cosine_sim_matrix)\n",
    "\n",
    "# Add the cluster labels to the original pivot table\n",
    "pivot_table['cluster'] = cluster_labels\n",
    "\n",
    "# Output the results\n",
    "print(\"Number of pickups in each cluster:\")\n",
    "print(pivot_table.groupby('cluster').sum())"
   ]
  },
  {
   "cell_type": "code",
   "execution_count": 8,
   "id": "7625aa19",
   "metadata": {},
   "outputs": [
    {
     "name": "stderr",
     "output_type": "stream",
     "text": [
      "C:\\Users\\Sanchu\\anaconda3\\lib\\site-packages\\sklearn\\cluster\\_kmeans.py:870: FutureWarning: The default value of `n_init` will change from 10 to 'auto' in 1.4. Set the value of `n_init` explicitly to suppress the warning\n",
      "  warnings.warn(\n",
      "C:\\Users\\Sanchu\\anaconda3\\lib\\site-packages\\sklearn\\cluster\\_kmeans.py:1382: UserWarning: KMeans is known to have a memory leak on Windows with MKL, when there are less chunks than available threads. You can avoid it by setting the environment variable OMP_NUM_THREADS=1.\n",
      "  warnings.warn(\n"
     ]
    },
    {
     "name": "stdout",
     "output_type": "stream",
     "text": [
      "Number of pickups in each cluster:\n",
      "         Monday  Tuesday  Wednesday  Thursday  Friday  Saturday  Sunday\n",
      "cluster                                                                \n",
      "0         14499    14636      11234     11931   12638     13120   14004\n",
      "1         73576    90991      77699     88281   93263     95017   57743\n",
      "2         14510    18840      13732     15453   13413      6454    5389\n",
      "3         13962    14253      12412     14163   14661     23561   25242\n",
      "4          2936     2956       3408      5164    9366     10412    2326\n",
      "5         11560    14475      11055     11916   10801      6444    5598\n",
      "6          6245     7079       5833      6368    6238      7049    6230\n"
     ]
    }
   ],
   "source": [
    "# Perform k-means clustering\n",
    "num_clusters = 7\n",
    "kmeans = KMeans(n_clusters=num_clusters, max_iter=100)\n",
    "cluster_labels = kmeans.fit_predict(cosine_sim_matrix)\n",
    "\n",
    "# Add the cluster labels to the original pivot table\n",
    "pivot_table['cluster'] = cluster_labels\n",
    "\n",
    "# Output the results\n",
    "print(\"Number of pickups in each cluster:\")\n",
    "print(pivot_table.groupby('cluster').sum())"
   ]
  },
  {
   "cell_type": "code",
   "execution_count": 9,
   "id": "aabf9182",
   "metadata": {},
   "outputs": [
    {
     "name": "stderr",
     "output_type": "stream",
     "text": [
      "C:\\Users\\Sanchu\\anaconda3\\lib\\site-packages\\sklearn\\cluster\\_kmeans.py:870: FutureWarning: The default value of `n_init` will change from 10 to 'auto' in 1.4. Set the value of `n_init` explicitly to suppress the warning\n",
      "  warnings.warn(\n",
      "C:\\Users\\Sanchu\\anaconda3\\lib\\site-packages\\sklearn\\cluster\\_kmeans.py:1382: UserWarning: KMeans is known to have a memory leak on Windows with MKL, when there are less chunks than available threads. You can avoid it by setting the environment variable OMP_NUM_THREADS=1.\n",
      "  warnings.warn(\n"
     ]
    },
    {
     "name": "stdout",
     "output_type": "stream",
     "text": [
      "Number of pickups in each cluster:\n",
      "         Monday  Tuesday  Wednesday  Thursday  Friday  Saturday  Sunday\n",
      "cluster                                                                \n",
      "0         68446    84453      71520     80396   82466     83844   53628\n",
      "1          2178     1393       1482      1751    2532      7694    9779\n",
      "2         14510    18840      13732     15453   13413      6454    5389\n",
      "3         13522    14027      10637     11217   11636     10163   10158\n",
      "4          2936     2956       3408      5164    9366     10412    2326\n",
      "5          6245     7079       5833      6368    6238      7049    6230\n",
      "6          5130     6538       6179      7885   10797     11173    4115\n",
      "7         11560    14475      11055     11916   10801      6444    5598\n",
      "8         12761    13469      11527     13126   13131     18824   19309\n"
     ]
    }
   ],
   "source": [
    "# Perform k-means clustering\n",
    "num_clusters = 9\n",
    "kmeans = KMeans(n_clusters=num_clusters, max_iter=100)\n",
    "cluster_labels = kmeans.fit_predict(cosine_sim_matrix)\n",
    "\n",
    "# Add the cluster labels to the original pivot table\n",
    "pivot_table['cluster'] = cluster_labels\n",
    "\n",
    "# Output the results\n",
    "print(\"Number of pickups in each cluster:\")\n",
    "print(pivot_table.groupby('cluster').sum())"
   ]
  },
  {
   "cell_type": "code",
   "execution_count": 10,
   "id": "c5f4b847",
   "metadata": {},
   "outputs": [
    {
     "name": "stderr",
     "output_type": "stream",
     "text": [
      "C:\\Users\\Sanchu\\anaconda3\\lib\\site-packages\\sklearn\\cluster\\_kmeans.py:870: FutureWarning: The default value of `n_init` will change from 10 to 'auto' in 1.4. Set the value of `n_init` explicitly to suppress the warning\n",
      "  warnings.warn(\n",
      "C:\\Users\\Sanchu\\anaconda3\\lib\\site-packages\\sklearn\\cluster\\_kmeans.py:1382: UserWarning: KMeans is known to have a memory leak on Windows with MKL, when there are less chunks than available threads. You can avoid it by setting the environment variable OMP_NUM_THREADS=1.\n",
      "  warnings.warn(\n"
     ]
    },
    {
     "name": "stdout",
     "output_type": "stream",
     "text": [
      "Number of pickups in each cluster:\n",
      "         Monday  Tuesday  Wednesday  Thursday  Friday  Saturday  Sunday\n",
      "cluster                                                                \n",
      "0         24972    29417      24649     26502   25919     29083   21544\n",
      "1         13522    14027      10637     11217   11636     10163   10158\n",
      "2         14510    18840      13732     15453   13413      6454    5389\n",
      "3          2178     1393       1482      1751    2532      7694    9779\n",
      "4         11560    14475      11055     11916   10801      6444    5598\n",
      "5          6245     7079       5833      6368    6238      7049    6230\n",
      "6          2936     2956       3408      5164    9366     10412    2326\n",
      "7          1885     1411       1489      1762    2513      6909    8164\n",
      "8          5130     6538       6179      7885   10797     11173    4115\n",
      "9         10876    12058      10038     11364   10618     11915   11145\n",
      "10        43474    55036      46871     53894   56547     54761   32084\n"
     ]
    }
   ],
   "source": [
    "# Perform k-means clustering\n",
    "num_clusters = 11\n",
    "kmeans = KMeans(n_clusters=num_clusters, max_iter=100)\n",
    "cluster_labels = kmeans.fit_predict(cosine_sim_matrix)\n",
    "\n",
    "# Add the cluster labels to the original pivot table\n",
    "pivot_table['cluster'] = cluster_labels\n",
    "\n",
    "# Output the results\n",
    "print(\"Number of pickups in each cluster:\")\n",
    "print(pivot_table.groupby('cluster').sum())"
   ]
  },
  {
   "cell_type": "code",
   "execution_count": 11,
   "id": "14ade237",
   "metadata": {
    "scrolled": true
   },
   "outputs": [
    {
     "name": "stderr",
     "output_type": "stream",
     "text": [
      "C:\\Users\\Sanchu\\anaconda3\\lib\\site-packages\\sklearn\\cluster\\_kmeans.py:870: FutureWarning: The default value of `n_init` will change from 10 to 'auto' in 1.4. Set the value of `n_init` explicitly to suppress the warning\n",
      "  warnings.warn(\n",
      "C:\\Users\\Sanchu\\anaconda3\\lib\\site-packages\\sklearn\\cluster\\_kmeans.py:1382: UserWarning: KMeans is known to have a memory leak on Windows with MKL, when there are less chunks than available threads. You can avoid it by setting the environment variable OMP_NUM_THREADS=1.\n",
      "  warnings.warn(\n"
     ]
    },
    {
     "name": "stdout",
     "output_type": "stream",
     "text": [
      "Number of pickups in each cluster:\n",
      "         Monday  Tuesday  Wednesday  Thursday  Friday  Saturday  Sunday\n",
      "cluster                                                                \n",
      "0          2757     1830       1563      1802    2349      4986    6204\n",
      "1         27700    33412      28076     30385   29663     31372   22208\n",
      "2         11560    14475      11055     11916   10801      6444    5598\n",
      "3          2936     2956       3408      5164    9366     10412    2326\n",
      "4         14510    18840      13732     15453   13413      6454    5389\n",
      "5         10876    12058      10038     11364   10618     11915   11145\n",
      "6          6245     7079       5833      6368    6238      7049    6230\n",
      "7          6384     6289       4742      4474    4934      3002    3112\n",
      "8          5130     6538       6179      7885   10797     11173    4115\n",
      "9          6979     9022       7951      9820   10947     10723    5164\n",
      "10         5358     6517       4929      5655    5355      5132    4688\n",
      "11         7113     8374       6867      7419    7431      8732    6707\n",
      "12        26654    33645      28626     32772   34425     33017   19549\n",
      "13         1885     1411       1489      1762    2513      6909    8164\n",
      "14         1201      784        885      1037    1530      4737    5933\n"
     ]
    }
   ],
   "source": [
    "# Perform k-means clustering\n",
    "num_clusters = 15\n",
    "kmeans = KMeans(n_clusters=num_clusters, max_iter=100)\n",
    "cluster_labels = kmeans.fit_predict(cosine_sim_matrix)\n",
    "\n",
    "# Add the cluster labels to the original pivot table\n",
    "pivot_table['cluster'] = cluster_labels\n",
    "\n",
    "# Output the results\n",
    "print(\"Number of pickups in each cluster:\")\n",
    "print(pivot_table.groupby('cluster').sum())"
   ]
  },
  {
   "cell_type": "code",
   "execution_count": 12,
   "id": "5f1f0fa7",
   "metadata": {
    "scrolled": false
   },
   "outputs": [
    {
     "name": "stderr",
     "output_type": "stream",
     "text": [
      "C:\\Users\\Sanchu\\anaconda3\\lib\\site-packages\\sklearn\\cluster\\_kmeans.py:870: FutureWarning: The default value of `n_init` will change from 10 to 'auto' in 1.4. Set the value of `n_init` explicitly to suppress the warning\n",
      "  warnings.warn(\n",
      "C:\\Users\\Sanchu\\anaconda3\\lib\\site-packages\\sklearn\\cluster\\_kmeans.py:1382: UserWarning: KMeans is known to have a memory leak on Windows with MKL, when there are less chunks than available threads. You can avoid it by setting the environment variable OMP_NUM_THREADS=1.\n",
      "  warnings.warn(\n",
      "C:\\Users\\Sanchu\\anaconda3\\lib\\site-packages\\sklearn\\cluster\\_kmeans.py:870: FutureWarning: The default value of `n_init` will change from 10 to 'auto' in 1.4. Set the value of `n_init` explicitly to suppress the warning\n",
      "  warnings.warn(\n",
      "C:\\Users\\Sanchu\\anaconda3\\lib\\site-packages\\sklearn\\cluster\\_kmeans.py:1382: UserWarning: KMeans is known to have a memory leak on Windows with MKL, when there are less chunks than available threads. You can avoid it by setting the environment variable OMP_NUM_THREADS=1.\n",
      "  warnings.warn(\n",
      "C:\\Users\\Sanchu\\anaconda3\\lib\\site-packages\\sklearn\\cluster\\_kmeans.py:870: FutureWarning: The default value of `n_init` will change from 10 to 'auto' in 1.4. Set the value of `n_init` explicitly to suppress the warning\n",
      "  warnings.warn(\n",
      "C:\\Users\\Sanchu\\anaconda3\\lib\\site-packages\\sklearn\\cluster\\_kmeans.py:1382: UserWarning: KMeans is known to have a memory leak on Windows with MKL, when there are less chunks than available threads. You can avoid it by setting the environment variable OMP_NUM_THREADS=1.\n",
      "  warnings.warn(\n",
      "C:\\Users\\Sanchu\\anaconda3\\lib\\site-packages\\sklearn\\cluster\\_kmeans.py:870: FutureWarning: The default value of `n_init` will change from 10 to 'auto' in 1.4. Set the value of `n_init` explicitly to suppress the warning\n",
      "  warnings.warn(\n",
      "C:\\Users\\Sanchu\\anaconda3\\lib\\site-packages\\sklearn\\cluster\\_kmeans.py:1382: UserWarning: KMeans is known to have a memory leak on Windows with MKL, when there are less chunks than available threads. You can avoid it by setting the environment variable OMP_NUM_THREADS=1.\n",
      "  warnings.warn(\n",
      "C:\\Users\\Sanchu\\anaconda3\\lib\\site-packages\\sklearn\\cluster\\_kmeans.py:870: FutureWarning: The default value of `n_init` will change from 10 to 'auto' in 1.4. Set the value of `n_init` explicitly to suppress the warning\n",
      "  warnings.warn(\n",
      "C:\\Users\\Sanchu\\anaconda3\\lib\\site-packages\\sklearn\\cluster\\_kmeans.py:1382: UserWarning: KMeans is known to have a memory leak on Windows with MKL, when there are less chunks than available threads. You can avoid it by setting the environment variable OMP_NUM_THREADS=1.\n",
      "  warnings.warn(\n",
      "C:\\Users\\Sanchu\\anaconda3\\lib\\site-packages\\sklearn\\cluster\\_kmeans.py:870: FutureWarning: The default value of `n_init` will change from 10 to 'auto' in 1.4. Set the value of `n_init` explicitly to suppress the warning\n",
      "  warnings.warn(\n",
      "C:\\Users\\Sanchu\\anaconda3\\lib\\site-packages\\sklearn\\cluster\\_kmeans.py:1382: UserWarning: KMeans is known to have a memory leak on Windows with MKL, when there are less chunks than available threads. You can avoid it by setting the environment variable OMP_NUM_THREADS=1.\n",
      "  warnings.warn(\n",
      "C:\\Users\\Sanchu\\anaconda3\\lib\\site-packages\\sklearn\\cluster\\_kmeans.py:870: FutureWarning: The default value of `n_init` will change from 10 to 'auto' in 1.4. Set the value of `n_init` explicitly to suppress the warning\n",
      "  warnings.warn(\n",
      "C:\\Users\\Sanchu\\anaconda3\\lib\\site-packages\\sklearn\\cluster\\_kmeans.py:1382: UserWarning: KMeans is known to have a memory leak on Windows with MKL, when there are less chunks than available threads. You can avoid it by setting the environment variable OMP_NUM_THREADS=1.\n",
      "  warnings.warn(\n",
      "C:\\Users\\Sanchu\\anaconda3\\lib\\site-packages\\sklearn\\cluster\\_kmeans.py:870: FutureWarning: The default value of `n_init` will change from 10 to 'auto' in 1.4. Set the value of `n_init` explicitly to suppress the warning\n",
      "  warnings.warn(\n",
      "C:\\Users\\Sanchu\\anaconda3\\lib\\site-packages\\sklearn\\cluster\\_kmeans.py:1382: UserWarning: KMeans is known to have a memory leak on Windows with MKL, when there are less chunks than available threads. You can avoid it by setting the environment variable OMP_NUM_THREADS=1.\n",
      "  warnings.warn(\n",
      "C:\\Users\\Sanchu\\anaconda3\\lib\\site-packages\\sklearn\\cluster\\_kmeans.py:870: FutureWarning: The default value of `n_init` will change from 10 to 'auto' in 1.4. Set the value of `n_init` explicitly to suppress the warning\n",
      "  warnings.warn(\n",
      "C:\\Users\\Sanchu\\anaconda3\\lib\\site-packages\\sklearn\\cluster\\_kmeans.py:1382: UserWarning: KMeans is known to have a memory leak on Windows with MKL, when there are less chunks than available threads. You can avoid it by setting the environment variable OMP_NUM_THREADS=1.\n",
      "  warnings.warn(\n",
      "C:\\Users\\Sanchu\\anaconda3\\lib\\site-packages\\sklearn\\cluster\\_kmeans.py:870: FutureWarning: The default value of `n_init` will change from 10 to 'auto' in 1.4. Set the value of `n_init` explicitly to suppress the warning\n",
      "  warnings.warn(\n",
      "C:\\Users\\Sanchu\\anaconda3\\lib\\site-packages\\sklearn\\cluster\\_kmeans.py:1382: UserWarning: KMeans is known to have a memory leak on Windows with MKL, when there are less chunks than available threads. You can avoid it by setting the environment variable OMP_NUM_THREADS=1.\n",
      "  warnings.warn(\n",
      "C:\\Users\\Sanchu\\anaconda3\\lib\\site-packages\\sklearn\\cluster\\_kmeans.py:870: FutureWarning: The default value of `n_init` will change from 10 to 'auto' in 1.4. Set the value of `n_init` explicitly to suppress the warning\n",
      "  warnings.warn(\n",
      "C:\\Users\\Sanchu\\anaconda3\\lib\\site-packages\\sklearn\\cluster\\_kmeans.py:1382: UserWarning: KMeans is known to have a memory leak on Windows with MKL, when there are less chunks than available threads. You can avoid it by setting the environment variable OMP_NUM_THREADS=1.\n",
      "  warnings.warn(\n"
     ]
    },
    {
     "name": "stdout",
     "output_type": "stream",
     "text": [
      "Optimal k value: 7\n"
     ]
    },
    {
     "data": {
      "image/png": "[encoded data removed]",
      "text/plain": [
       "<Figure size 640x480 with 1 Axes>"
      ]
     },
     "metadata": {},
     "output_type": "display_data"
    }
   ],
   "source": [
    "from sklearn.metrics import silhouette_score\n",
    "import matplotlib.pyplot as plt\n",
    "\n",
    "\n",
    "# Define the range of k values to test\n",
    "k_min = 5\n",
    "k_max = 15\n",
    "k_values = range(k_min, k_max+1)\n",
    "\n",
    "# Calculate the silhouette scores for each k value\n",
    "silhouette_scores = []\n",
    "for k in k_values:\n",
    "    # Fit the k-means model\n",
    "    kmeans_model = KMeans(n_clusters=k , max_iter=100)\n",
    "    labels = kmeans_model.fit_predict(cosine_sim_matrix)\n",
    "    \n",
    "    # Calculate the silhouette score\n",
    "    score = silhouette_score(cosine_sim_matrix, labels)\n",
    "    silhouette_scores.append(score)\n",
    "\n",
    "# Find the optimal k value with the highest silhouette score\n",
    "optimal_k = k_values[silhouette_scores.index(max(silhouette_scores))]\n",
    "print(\"Optimal k value:\", optimal_k)\n",
    "\n",
    "# Plot the silhouette scores for each k value\n",
    "plt.plot(k_values, silhouette_scores, 'bo-')\n",
    "plt.xlabel('Number of Clusters (k)')\n",
    "plt.ylabel('Silhouette Score')\n",
    "plt.title('Silhouette Method For Optimal k')\n",
    "plt.show()\n"
   ]
  },
  {
   "cell_type": "code",
   "execution_count": 13,
   "id": "e802585f",
   "metadata": {},
   "outputs": [
    {
     "data": {
      "text/plain": [
       "(1028136, 2)"
      ]
     },
     "execution_count": 13,
     "metadata": {},
     "output_type": "execute_result"
    }
   ],
   "source": [
    "clust_data = uber_data[['Lat','Lon']]\n",
    "clust_data.shape"
   ]
  },
  {
   "cell_type": "code",
   "execution_count": 14,
   "id": "32126985",
   "metadata": {
    "scrolled": true
   },
   "outputs": [
    {
     "name": "stderr",
     "output_type": "stream",
     "text": [
      "C:\\Users\\Sanchu\\anaconda3\\lib\\site-packages\\sklearn\\cluster\\_kmeans.py:870: FutureWarning: The default value of `n_init` will change from 10 to 'auto' in 1.4. Set the value of `n_init` explicitly to suppress the warning\n",
      "  warnings.warn(\n"
     ]
    }
   ],
   "source": [
    "kmeans = KMeans(n_clusters = 3, max_iter = 100 , random_state = 12345)\n",
    "c_labels = kmeans.fit(clust_data)"
   ]
  },
  {
   "cell_type": "code",
   "execution_count": 15,
   "id": "a304cd1b",
   "metadata": {},
   "outputs": [
    {
     "data": {
      "image/png": "[encoded data removed]",
      "text/plain": [
       "<Figure size 640x480 with 1 Axes>"
      ]
     },
     "metadata": {},
     "output_type": "display_data"
    }
   ],
   "source": [
    "centroids = kmeans.cluster_centers_\n",
    "clocation = pd.DataFrame(centroids)\n",
    "clocation.columns = ['Latitude','Longitude']\n",
    "clocation\n",
    "plt.scatter(clocation['Latitude'],clocation['Longitude'],marker = \"x\", s = 200)\n",
    "plt.show()"
   ]
  },
  {
   "cell_type": "code",
   "execution_count": 16,
   "id": "60a3e36a",
   "metadata": {},
   "outputs": [
    {
     "name": "stderr",
     "output_type": "stream",
     "text": [
      "C:\\Users\\Sanchu\\anaconda3\\lib\\site-packages\\sklearn\\cluster\\_kmeans.py:870: FutureWarning: The default value of `n_init` will change from 10 to 'auto' in 1.4. Set the value of `n_init` explicitly to suppress the warning\n",
      "  warnings.warn(\n"
     ]
    }
   ],
   "source": [
    "kmeans = KMeans(n_clusters = 5, max_iter = 100 , random_state = 12345)\n",
    "c_labels = kmeans.fit(clust_data)"
   ]
  },
  {
   "cell_type": "code",
   "execution_count": 17,
   "id": "20f65930",
   "metadata": {},
   "outputs": [
    {
     "data": {
      "image/png": "[encoded data removed]",
      "text/plain": [
       "<Figure size 640x480 with 1 Axes>"
      ]
     },
     "metadata": {},
     "output_type": "display_data"
    }
   ],
   "source": [
    "centroids = kmeans.cluster_centers_\n",
    "clocation = pd.DataFrame(centroids)\n",
    "clocation.columns = ['Latitude','Longitude']\n",
    "clocation\n",
    "plt.scatter(clocation['Latitude'],clocation['Longitude'],marker = \"x\", s = 200)\n",
    "plt.show()"
   ]
  },
  {
   "cell_type": "code",
   "execution_count": 18,
   "id": "21e0126d",
   "metadata": {},
   "outputs": [
    {
     "name": "stderr",
     "output_type": "stream",
     "text": [
      "C:\\Users\\Sanchu\\anaconda3\\lib\\site-packages\\sklearn\\cluster\\_kmeans.py:870: FutureWarning: The default value of `n_init` will change from 10 to 'auto' in 1.4. Set the value of `n_init` explicitly to suppress the warning\n",
      "  warnings.warn(\n"
     ]
    }
   ],
   "source": [
    "kmeans = KMeans(n_clusters = 9, max_iter = 100 , random_state = 12345)\n",
    "c_labels = kmeans.fit(clust_data)"
   ]
  },
  {
   "cell_type": "code",
   "execution_count": 19,
   "id": "67ae9418",
   "metadata": {},
   "outputs": [
    {
     "data": {
      "image/png": "[encoded data removed]",
      "text/plain": [
       "<Figure size 640x480 with 1 Axes>"
      ]
     },
     "metadata": {},
     "output_type": "display_data"
    }
   ],
   "source": [
    "centroids = kmeans.cluster_centers_\n",
    "clocation = pd.DataFrame(centroids)\n",
    "clocation.columns = ['Latitude','Longitude']\n",
    "clocation\n",
    "plt.scatter(clocation['Latitude'],clocation['Longitude'],marker = \"x\", s = 200)\n",
    "plt.show()"
   ]
  },
  {
   "cell_type": "code",
   "execution_count": 20,
   "id": "080938c3",
   "metadata": {
    "scrolled": true
   },
   "outputs": [
    {
     "name": "stderr",
     "output_type": "stream",
     "text": [
      "C:\\Users\\Sanchu\\anaconda3\\lib\\site-packages\\sklearn\\cluster\\_kmeans.py:870: FutureWarning: The default value of `n_init` will change from 10 to 'auto' in 1.4. Set the value of `n_init` explicitly to suppress the warning\n",
      "  warnings.warn(\n"
     ]
    }
   ],
   "source": [
    "kmeans = KMeans(n_clusters = 7, max_iter = 100 , random_state = 12345)\n",
    "c_labels = kmeans.fit(clust_data)"
   ]
  },
  {
   "cell_type": "code",
   "execution_count": 21,
   "id": "317fd4f9",
   "metadata": {},
   "outputs": [
    {
     "data": {
      "text/html": [
       "<div>\n",
       "<style scoped>\n",
       "    .dataframe tbody tr th:only-of-type {\n",
       "        vertical-align: middle;\n",
       "    }\n",
       "\n",
       "    .dataframe tbody tr th {\n",
       "        vertical-align: top;\n",
       "    }\n",
       "\n",
       "    .dataframe thead th {\n",
       "        text-align: right;\n",
       "    }\n",
       "</style>\n",
       "<table border=\"1\" class=\"dataframe\">\n",
       "  <thead>\n",
       "    <tr style=\"text-align: right;\">\n",
       "      <th></th>\n",
       "      <th>Latitude</th>\n",
       "      <th>Longitude</th>\n",
       "    </tr>\n",
       "  </thead>\n",
       "  <tbody>\n",
       "    <tr>\n",
       "      <th>0</th>\n",
       "      <td>40.731783</td>\n",
       "      <td>-73.997787</td>\n",
       "    </tr>\n",
       "    <tr>\n",
       "      <th>1</th>\n",
       "      <td>40.660078</td>\n",
       "      <td>-73.785042</td>\n",
       "    </tr>\n",
       "    <tr>\n",
       "      <th>2</th>\n",
       "      <td>40.794761</td>\n",
       "      <td>-73.880433</td>\n",
       "    </tr>\n",
       "    <tr>\n",
       "      <th>3</th>\n",
       "      <td>40.831504</td>\n",
       "      <td>-73.567281</td>\n",
       "    </tr>\n",
       "    <tr>\n",
       "      <th>4</th>\n",
       "      <td>40.767403</td>\n",
       "      <td>-73.971675</td>\n",
       "    </tr>\n",
       "    <tr>\n",
       "      <th>5</th>\n",
       "      <td>40.697407</td>\n",
       "      <td>-74.203735</td>\n",
       "    </tr>\n",
       "    <tr>\n",
       "      <th>6</th>\n",
       "      <td>40.687945</td>\n",
       "      <td>-73.963972</td>\n",
       "    </tr>\n",
       "  </tbody>\n",
       "</table>\n",
       "</div>"
      ],
      "text/plain": [
       "    Latitude  Longitude\n",
       "0  40.731783 -73.997787\n",
       "1  40.660078 -73.785042\n",
       "2  40.794761 -73.880433\n",
       "3  40.831504 -73.567281\n",
       "4  40.767403 -73.971675\n",
       "5  40.697407 -74.203735\n",
       "6  40.687945 -73.963972"
      ]
     },
     "execution_count": 21,
     "metadata": {},
     "output_type": "execute_result"
    }
   ],
   "source": [
    "centroids = kmeans.cluster_centers_\n",
    "clocation = pd.DataFrame(centroids)\n",
    "clocation.columns = ['Latitude','Longitude']\n",
    "clocation"
   ]
  },
  {
   "cell_type": "code",
   "execution_count": 22,
   "id": "0b0e224e",
   "metadata": {},
   "outputs": [
    {
     "data": {
      "image/png": "[encoded data removed]",
      "text/plain": [
       "<Figure size 640x480 with 1 Axes>"
      ]
     },
     "metadata": {},
     "output_type": "display_data"
    }
   ],
   "source": [
    "plt.scatter(clocation['Latitude'],clocation['Longitude'],marker = \"x\", s = 200)\n",
    "plt.show()"
   ]
  },
  {
   "cell_type": "code",
   "execution_count": 23,
   "id": "b7191c47",
   "metadata": {
    "scrolled": false
   },
   "outputs": [
    {
     "data": {
      "text/html": [
       "<div style=\"width:100%;\"><div style=\"position:relative;width:100%;height:0;padding-bottom:60%;\"><span style=\"color:#565656\">Make this Notebook Trusted to load map: File -> Trust Notebook</span><iframe srcdoc=\"&lt;!DOCTYPE html&gt;\n",
       "&lt;html&gt;\n",
       "&lt;head&gt;\n",
       "    \n",
       "    &lt;meta http-equiv=&quot;content-type&quot; content=&quot;text/html; charset=UTF-8&quot; /&gt;\n",
       "    \n",
       "        &lt;script&gt;\n",
       "            L_NO_TOUCH = false;\n",
       "            L_DISABLE_3D = false;\n",
       "        &lt;/script&gt;\n",
       "    \n",
       "    &lt;style&gt;html, body {width: 100%;height: 100%;margin: 0;padding: 0;}&lt;/style&gt;\n",
       "    &lt;style&gt;#map {position:absolute;top:0;bottom:0;right:0;left:0;}&lt;/style&gt;\n",
       "    &lt;script src=&quot;https://cdn.jsdelivr.net/npm/leaflet@1.9.3/dist/leaflet.js&quot;&gt;&lt;/script&gt;\n",
       "    &lt;script src=&quot;https://code.jquery.com/jquery-1.12.4.min.js&quot;&gt;&lt;/script&gt;\n",
       "    &lt;script src=&quot;https://cdn.jsdelivr.net/npm/bootstrap@5.2.2/dist/js/bootstrap.bundle.min.js&quot;&gt;&lt;/script&gt;\n",
       "    &lt;script src=&quot;https://cdnjs.cloudflare.com/ajax/libs/Leaflet.awesome-markers/2.0.2/leaflet.awesome-markers.js&quot;&gt;&lt;/script&gt;\n",
       "    &lt;link rel=&quot;stylesheet&quot; href=&quot;https://cdn.jsdelivr.net/npm/leaflet@1.9.3/dist/leaflet.css&quot;/&gt;\n",
       "    &lt;link rel=&quot;stylesheet&quot; href=&quot;https://cdn.jsdelivr.net/npm/bootstrap@5.2.2/dist/css/bootstrap.min.css&quot;/&gt;\n",
       "    &lt;link rel=&quot;stylesheet&quot; href=&quot;https://netdna.bootstrapcdn.com/bootstrap/3.0.0/css/bootstrap.min.css&quot;/&gt;\n",
       "    &lt;link rel=&quot;stylesheet&quot; href=&quot;https://cdn.jsdelivr.net/npm/@fortawesome/fontawesome-free@6.2.0/css/all.min.css&quot;/&gt;\n",
       "    &lt;link rel=&quot;stylesheet&quot; href=&quot;https://cdnjs.cloudflare.com/ajax/libs/Leaflet.awesome-markers/2.0.2/leaflet.awesome-markers.css&quot;/&gt;\n",
       "    &lt;link rel=&quot;stylesheet&quot; href=&quot;https://cdn.jsdelivr.net/gh/python-visualization/folium/folium/templates/leaflet.awesome.rotate.min.css&quot;/&gt;\n",
       "    \n",
       "            &lt;meta name=&quot;viewport&quot; content=&quot;width=device-width,\n",
       "                initial-scale=1.0, maximum-scale=1.0, user-scalable=no&quot; /&gt;\n",
       "            &lt;style&gt;\n",
       "                #map_6fbf65ab38698cae2b616edbcec9a50c {\n",
       "                    position: relative;\n",
       "                    width: 100.0%;\n",
       "                    height: 100.0%;\n",
       "                    left: 0.0%;\n",
       "                    top: 0.0%;\n",
       "                }\n",
       "                .leaflet-container { font-size: 1rem; }\n",
       "            &lt;/style&gt;\n",
       "        \n",
       "&lt;/head&gt;\n",
       "&lt;body&gt;\n",
       "    \n",
       "    \n",
       "            &lt;div class=&quot;folium-map&quot; id=&quot;map_6fbf65ab38698cae2b616edbcec9a50c&quot; &gt;&lt;/div&gt;\n",
       "        \n",
       "&lt;/body&gt;\n",
       "&lt;script&gt;\n",
       "    \n",
       "    \n",
       "            var map_6fbf65ab38698cae2b616edbcec9a50c = L.map(\n",
       "                &quot;map_6fbf65ab38698cae2b616edbcec9a50c&quot;,\n",
       "                {\n",
       "                    center: [40.79658011772687, -73.87341741832425],\n",
       "                    crs: L.CRS.EPSG3857,\n",
       "                    zoom: 25,\n",
       "                    zoomControl: true,\n",
       "                    preferCanvas: false,\n",
       "                }\n",
       "            );\n",
       "\n",
       "            \n",
       "\n",
       "        \n",
       "    \n",
       "            var tile_layer_228be5c91d0734fcf2dcfaeeafcc5777 = L.tileLayer(\n",
       "                &quot;https://{s}.tile.openstreetmap.org/{z}/{x}/{y}.png&quot;,\n",
       "                {&quot;attribution&quot;: &quot;Data by \\u0026copy; \\u003ca target=\\&quot;_blank\\&quot; href=\\&quot;http://openstreetmap.org\\&quot;\\u003eOpenStreetMap\\u003c/a\\u003e, under \\u003ca target=\\&quot;_blank\\&quot; href=\\&quot;http://www.openstreetmap.org/copyright\\&quot;\\u003eODbL\\u003c/a\\u003e.&quot;, &quot;detectRetina&quot;: false, &quot;maxNativeZoom&quot;: 18, &quot;maxZoom&quot;: 18, &quot;minZoom&quot;: 0, &quot;noWrap&quot;: false, &quot;opacity&quot;: 1, &quot;subdomains&quot;: &quot;abc&quot;, &quot;tms&quot;: false}\n",
       "            ).addTo(map_6fbf65ab38698cae2b616edbcec9a50c);\n",
       "        \n",
       "    \n",
       "            var marker_8dbfeb797629cca1733c4bd2482c8bbf = L.marker(\n",
       "                [40.731783427255465, -73.99778668017596],\n",
       "                {}\n",
       "            ).addTo(map_6fbf65ab38698cae2b616edbcec9a50c);\n",
       "        \n",
       "    \n",
       "        var popup_7308039dbd03a0559f68310cef71f0da = L.popup({&quot;maxWidth&quot;: &quot;100%&quot;});\n",
       "\n",
       "        \n",
       "            \n",
       "                var html_35858aa01e14a706e44e80a7ec2f8a2c = $(`&lt;div id=&quot;html_35858aa01e14a706e44e80a7ec2f8a2c&quot; style=&quot;width: 100.0%; height: 100.0%;&quot;&gt;[40.731783427255465, -73.99778668017596]&lt;/div&gt;`)[0];\n",
       "                popup_7308039dbd03a0559f68310cef71f0da.setContent(html_35858aa01e14a706e44e80a7ec2f8a2c);\n",
       "            \n",
       "        \n",
       "\n",
       "        marker_8dbfeb797629cca1733c4bd2482c8bbf.bindPopup(popup_7308039dbd03a0559f68310cef71f0da)\n",
       "        ;\n",
       "\n",
       "        \n",
       "    \n",
       "    \n",
       "            var marker_9d386ebf8833faab9d48b4fe0f791171 = L.marker(\n",
       "                [40.66007790848433, -73.78504207696929],\n",
       "                {}\n",
       "            ).addTo(map_6fbf65ab38698cae2b616edbcec9a50c);\n",
       "        \n",
       "    \n",
       "        var popup_068f1dedb8a5387e91c07e10beb04e16 = L.popup({&quot;maxWidth&quot;: &quot;100%&quot;});\n",
       "\n",
       "        \n",
       "            \n",
       "                var html_01f338842e7d60ece91a9b72f2d56c7a = $(`&lt;div id=&quot;html_01f338842e7d60ece91a9b72f2d56c7a&quot; style=&quot;width: 100.0%; height: 100.0%;&quot;&gt;[40.66007790848433, -73.78504207696929]&lt;/div&gt;`)[0];\n",
       "                popup_068f1dedb8a5387e91c07e10beb04e16.setContent(html_01f338842e7d60ece91a9b72f2d56c7a);\n",
       "            \n",
       "        \n",
       "\n",
       "        marker_9d386ebf8833faab9d48b4fe0f791171.bindPopup(popup_068f1dedb8a5387e91c07e10beb04e16)\n",
       "        ;\n",
       "\n",
       "        \n",
       "    \n",
       "    \n",
       "            var marker_4199d5d872b2036eac0349340e464cc0 = L.marker(\n",
       "                [40.79476101144899, -73.88043262779844],\n",
       "                {}\n",
       "            ).addTo(map_6fbf65ab38698cae2b616edbcec9a50c);\n",
       "        \n",
       "    \n",
       "        var popup_4fd3dabb4ca2d7c4f8e4b47829de5001 = L.popup({&quot;maxWidth&quot;: &quot;100%&quot;});\n",
       "\n",
       "        \n",
       "            \n",
       "                var html_0fcac1fc13845b109642c74a439df41b = $(`&lt;div id=&quot;html_0fcac1fc13845b109642c74a439df41b&quot; style=&quot;width: 100.0%; height: 100.0%;&quot;&gt;[40.79476101144899, -73.88043262779844]&lt;/div&gt;`)[0];\n",
       "                popup_4fd3dabb4ca2d7c4f8e4b47829de5001.setContent(html_0fcac1fc13845b109642c74a439df41b);\n",
       "            \n",
       "        \n",
       "\n",
       "        marker_4199d5d872b2036eac0349340e464cc0.bindPopup(popup_4fd3dabb4ca2d7c4f8e4b47829de5001)\n",
       "        ;\n",
       "\n",
       "        \n",
       "    \n",
       "    \n",
       "            var marker_550939366293f507d68b9df49946380d = L.marker(\n",
       "                [40.83150434782609, -73.56728097826087],\n",
       "                {}\n",
       "            ).addTo(map_6fbf65ab38698cae2b616edbcec9a50c);\n",
       "        \n",
       "    \n",
       "        var popup_02402b9430fa63596dc2d92eb2a3f519 = L.popup({&quot;maxWidth&quot;: &quot;100%&quot;});\n",
       "\n",
       "        \n",
       "            \n",
       "                var html_bd56aae41bafdbd3bb3da40ea344fc5a = $(`&lt;div id=&quot;html_bd56aae41bafdbd3bb3da40ea344fc5a&quot; style=&quot;width: 100.0%; height: 100.0%;&quot;&gt;[40.83150434782609, -73.56728097826087]&lt;/div&gt;`)[0];\n",
       "                popup_02402b9430fa63596dc2d92eb2a3f519.setContent(html_bd56aae41bafdbd3bb3da40ea344fc5a);\n",
       "            \n",
       "        \n",
       "\n",
       "        marker_550939366293f507d68b9df49946380d.bindPopup(popup_02402b9430fa63596dc2d92eb2a3f519)\n",
       "        ;\n",
       "\n",
       "        \n",
       "    \n",
       "    \n",
       "            var marker_fc59e78d8226c50235319f19064a3319 = L.marker(\n",
       "                [40.76740340074253, -73.97167521207177],\n",
       "                {}\n",
       "            ).addTo(map_6fbf65ab38698cae2b616edbcec9a50c);\n",
       "        \n",
       "    \n",
       "        var popup_b0c12497a68e8776bfe83299f770c597 = L.popup({&quot;maxWidth&quot;: &quot;100%&quot;});\n",
       "\n",
       "        \n",
       "            \n",
       "                var html_31baecf6143b4b58953552cb81bae564 = $(`&lt;div id=&quot;html_31baecf6143b4b58953552cb81bae564&quot; style=&quot;width: 100.0%; height: 100.0%;&quot;&gt;[40.76740340074253, -73.97167521207177]&lt;/div&gt;`)[0];\n",
       "                popup_b0c12497a68e8776bfe83299f770c597.setContent(html_31baecf6143b4b58953552cb81bae564);\n",
       "            \n",
       "        \n",
       "\n",
       "        marker_fc59e78d8226c50235319f19064a3319.bindPopup(popup_b0c12497a68e8776bfe83299f770c597)\n",
       "        ;\n",
       "\n",
       "        \n",
       "    \n",
       "    \n",
       "            var marker_e407605a0b2abee07df18509bd4f885d = L.marker(\n",
       "                [40.69740678803137, -74.20373458894161],\n",
       "                {}\n",
       "            ).addTo(map_6fbf65ab38698cae2b616edbcec9a50c);\n",
       "        \n",
       "    \n",
       "        var popup_dd83337a9f17bdca35203cddb71103db = L.popup({&quot;maxWidth&quot;: &quot;100%&quot;});\n",
       "\n",
       "        \n",
       "            \n",
       "                var html_e1a419a072f5bd4285aa34691c4413c1 = $(`&lt;div id=&quot;html_e1a419a072f5bd4285aa34691c4413c1&quot; style=&quot;width: 100.0%; height: 100.0%;&quot;&gt;[40.69740678803137, -74.20373458894161]&lt;/div&gt;`)[0];\n",
       "                popup_dd83337a9f17bdca35203cddb71103db.setContent(html_e1a419a072f5bd4285aa34691c4413c1);\n",
       "            \n",
       "        \n",
       "\n",
       "        marker_e407605a0b2abee07df18509bd4f885d.bindPopup(popup_dd83337a9f17bdca35203cddb71103db)\n",
       "        ;\n",
       "\n",
       "        \n",
       "    \n",
       "    \n",
       "            var marker_1637055c724445f593fd30f803406416 = L.marker(\n",
       "                [40.687944944390765, -73.9639722123095],\n",
       "                {}\n",
       "            ).addTo(map_6fbf65ab38698cae2b616edbcec9a50c);\n",
       "        \n",
       "    \n",
       "        var popup_6ca6bce01ee76b1db3e4427a4d034434 = L.popup({&quot;maxWidth&quot;: &quot;100%&quot;});\n",
       "\n",
       "        \n",
       "            \n",
       "                var html_c6842a1df4d68a41773d6e8797e52c1a = $(`&lt;div id=&quot;html_c6842a1df4d68a41773d6e8797e52c1a&quot; style=&quot;width: 100.0%; height: 100.0%;&quot;&gt;[40.687944944390765, -73.9639722123095]&lt;/div&gt;`)[0];\n",
       "                popup_6ca6bce01ee76b1db3e4427a4d034434.setContent(html_c6842a1df4d68a41773d6e8797e52c1a);\n",
       "            \n",
       "        \n",
       "\n",
       "        marker_1637055c724445f593fd30f803406416.bindPopup(popup_6ca6bce01ee76b1db3e4427a4d034434)\n",
       "        ;\n",
       "\n",
       "        \n",
       "    \n",
       "&lt;/script&gt;\n",
       "&lt;/html&gt;\" style=\"position:absolute;width:100%;height:100%;left:0;top:0;border:none !important;\" allowfullscreen webkitallowfullscreen mozallowfullscreen></iframe></div></div>"
      ],
      "text/plain": [
       "<folium.folium.Map at 0x223abccfc10>"
      ]
     },
     "execution_count": 23,
     "metadata": {},
     "output_type": "execute_result"
    }
   ],
   "source": [
    "import folium as folium \n",
    "# Converting centroid into lists\n",
    "centroid = clocation.values.tolist()\n",
    "# Plotting the centroids on google map using Folium library.\n",
    "map = folium.Map(location=[40.79658011772687, -73.87341741832425], zoom_start = 25)\n",
    "for point in range(0, len(centroid)):\n",
    "    folium.Marker(centroid[point], popup = centroid[point]).add_to(map)\n",
    "map"
   ]
  },
  {
   "cell_type": "code",
   "execution_count": 24,
   "id": "e9014b4b",
   "metadata": {},
   "outputs": [
    {
     "name": "stderr",
     "output_type": "stream",
     "text": [
      "C:\\Users\\Sanchu\\anaconda3\\lib\\site-packages\\sklearn\\cluster\\_kmeans.py:870: FutureWarning: The default value of `n_init` will change from 10 to 'auto' in 1.4. Set the value of `n_init` explicitly to suppress the warning\n",
      "  warnings.warn(\n"
     ]
    }
   ],
   "source": [
    "# Fit the k-means model\n",
    "k = 7\n",
    "kmeans_model = KMeans(n_clusters=k)\n",
    "c_label = kmeans_model.fit_predict(clust_data)"
   ]
  },
  {
   "cell_type": "code",
   "execution_count": 25,
   "id": "2304bbd1",
   "metadata": {},
   "outputs": [
    {
     "data": {
      "text/html": [
       "<div style=\"width:100%;\"><div style=\"position:relative;width:100%;height:0;padding-bottom:60%;\"><span style=\"color:#565656\">Make this Notebook Trusted to load map: File -> Trust Notebook</span><iframe srcdoc=\"&lt;!DOCTYPE html&gt;\n",
       "&lt;html&gt;\n",
       "&lt;head&gt;\n",
       "    \n",
       "    &lt;meta http-equiv=&quot;content-type&quot; content=&quot;text/html; charset=UTF-8&quot; /&gt;\n",
       "    \n",
       "        &lt;script&gt;\n",
       "            L_NO_TOUCH = false;\n",
       "            L_DISABLE_3D = false;\n",
       "        &lt;/script&gt;\n",
       "    \n",
       "    &lt;style&gt;html, body {width: 100%;height: 100%;margin: 0;padding: 0;}&lt;/style&gt;\n",
       "    &lt;style&gt;#map {position:absolute;top:0;bottom:0;right:0;left:0;}&lt;/style&gt;\n",
       "    &lt;script src=&quot;https://cdn.jsdelivr.net/npm/leaflet@1.9.3/dist/leaflet.js&quot;&gt;&lt;/script&gt;\n",
       "    &lt;script src=&quot;https://code.jquery.com/jquery-1.12.4.min.js&quot;&gt;&lt;/script&gt;\n",
       "    &lt;script src=&quot;https://cdn.jsdelivr.net/npm/bootstrap@5.2.2/dist/js/bootstrap.bundle.min.js&quot;&gt;&lt;/script&gt;\n",
       "    &lt;script src=&quot;https://cdnjs.cloudflare.com/ajax/libs/Leaflet.awesome-markers/2.0.2/leaflet.awesome-markers.js&quot;&gt;&lt;/script&gt;\n",
       "    &lt;link rel=&quot;stylesheet&quot; href=&quot;https://cdn.jsdelivr.net/npm/leaflet@1.9.3/dist/leaflet.css&quot;/&gt;\n",
       "    &lt;link rel=&quot;stylesheet&quot; href=&quot;https://cdn.jsdelivr.net/npm/bootstrap@5.2.2/dist/css/bootstrap.min.css&quot;/&gt;\n",
       "    &lt;link rel=&quot;stylesheet&quot; href=&quot;https://netdna.bootstrapcdn.com/bootstrap/3.0.0/css/bootstrap.min.css&quot;/&gt;\n",
       "    &lt;link rel=&quot;stylesheet&quot; href=&quot;https://cdn.jsdelivr.net/npm/@fortawesome/fontawesome-free@6.2.0/css/all.min.css&quot;/&gt;\n",
       "    &lt;link rel=&quot;stylesheet&quot; href=&quot;https://cdnjs.cloudflare.com/ajax/libs/Leaflet.awesome-markers/2.0.2/leaflet.awesome-markers.css&quot;/&gt;\n",
       "    &lt;link rel=&quot;stylesheet&quot; href=&quot;https://cdn.jsdelivr.net/gh/python-visualization/folium/folium/templates/leaflet.awesome.rotate.min.css&quot;/&gt;\n",
       "    \n",
       "            &lt;meta name=&quot;viewport&quot; content=&quot;width=device-width,\n",
       "                initial-scale=1.0, maximum-scale=1.0, user-scalable=no&quot; /&gt;\n",
       "            &lt;style&gt;\n",
       "                #map_b34d7139d680f92e03c12388a2a2094b {\n",
       "                    position: relative;\n",
       "                    width: 100.0%;\n",
       "                    height: 100.0%;\n",
       "                    left: 0.0%;\n",
       "                    top: 0.0%;\n",
       "                }\n",
       "                .leaflet-container { font-size: 1rem; }\n",
       "            &lt;/style&gt;\n",
       "        \n",
       "&lt;/head&gt;\n",
       "&lt;body&gt;\n",
       "    \n",
       "    \n",
       "            &lt;div class=&quot;folium-map&quot; id=&quot;map_b34d7139d680f92e03c12388a2a2094b&quot; &gt;&lt;/div&gt;\n",
       "        \n",
       "&lt;/body&gt;\n",
       "&lt;script&gt;\n",
       "    \n",
       "    \n",
       "            var map_b34d7139d680f92e03c12388a2a2094b = L.map(\n",
       "                &quot;map_b34d7139d680f92e03c12388a2a2094b&quot;,\n",
       "                {\n",
       "                    center: [40.7128, -74.006],\n",
       "                    crs: L.CRS.EPSG3857,\n",
       "                    zoom: 12,\n",
       "                    zoomControl: true,\n",
       "                    preferCanvas: false,\n",
       "                }\n",
       "            );\n",
       "\n",
       "            \n",
       "\n",
       "        \n",
       "    \n",
       "            var tile_layer_0139a18a02222ff9b7d43d27878e99c2 = L.tileLayer(\n",
       "                &quot;https://{s}.tile.openstreetmap.org/{z}/{x}/{y}.png&quot;,\n",
       "                {&quot;attribution&quot;: &quot;Data by \\u0026copy; \\u003ca target=\\&quot;_blank\\&quot; href=\\&quot;http://openstreetmap.org\\&quot;\\u003eOpenStreetMap\\u003c/a\\u003e, under \\u003ca target=\\&quot;_blank\\&quot; href=\\&quot;http://www.openstreetmap.org/copyright\\&quot;\\u003eODbL\\u003c/a\\u003e.&quot;, &quot;detectRetina&quot;: false, &quot;maxNativeZoom&quot;: 18, &quot;maxZoom&quot;: 18, &quot;minZoom&quot;: 0, &quot;noWrap&quot;: false, &quot;opacity&quot;: 1, &quot;subdomains&quot;: &quot;abc&quot;, &quot;tms&quot;: false}\n",
       "            ).addTo(map_b34d7139d680f92e03c12388a2a2094b);\n",
       "        \n",
       "&lt;/script&gt;\n",
       "&lt;/html&gt;\" style=\"position:absolute;width:100%;height:100%;left:0;top:0;border:none !important;\" allowfullscreen webkitallowfullscreen mozallowfullscreen></iframe></div></div>"
      ],
      "text/plain": [
       "<folium.folium.Map at 0x223aced81f0>"
      ]
     },
     "execution_count": 25,
     "metadata": {},
     "output_type": "execute_result"
    }
   ],
   "source": [
    "# Plotting the centroids on google map using Folium library.\n",
    "map1 = folium.Map(location=[40.7128, -74.0060], zoom_start = 12)\n",
    "# Add the clustered data to the map\n",
    "colors = ['red', 'blue', 'green', 'purple', 'orange','black','pink']\n",
    "for lat, lon, label in zip(clust_data['Lat'], clust_data['Lon'], c_label):\n",
    "    folium.CircleMarker(\n",
    "        location=[lat, lon],\n",
    "        radius=5,\n",
    "        color=colors[label],\n",
    "        fill=True,\n",
    "        fill_color=colors[label],\n",
    "        fill_opacity=0.7,\n",
    "    ).add_to(map)\n",
    "    \n",
    "# Display the map\n",
    "map1"
   ]
  }
 ],
 "metadata": {
  "kernelspec": {
   "display_name": "Python 3 (ipykernel)",
   "language": "python",
   "name": "python3"
  },
  "language_info": {
   "codemirror_mode": {
    "name": "ipython",
    "version": 3
   },
   "file_extension": ".py",
   "mimetype": "text/x-python",
   "name": "python",
   "nbconvert_exporter": "python",
   "pygments_lexer": "ipython3",
   "version": "3.9.13"
  }
 },
 "nbformat": 4,
 "nbformat_minor": 5
}
